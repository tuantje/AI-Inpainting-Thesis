{
 "cells": [
  {
   "cell_type": "code",
   "execution_count": 4,
   "id": "a5a8cf47-4564-47c7-932a-0307fd050bfd",
   "metadata": {},
   "outputs": [],
   "source": [
    "import os\n",
    "from PIL import Image\n",
    "\n",
    "def resize_and_save_images(input_dir, output_dir):\n",
    "    if not os.path.exists(output_dir):\n",
    "        os.makedirs(output_dir)\n",
    "    \n",
    "    image_paths = [os.path.join(input_dir, fname) for fname in os.listdir(input_dir) if fname.endswith('.jpg')]\n",
    "    \n",
    "    for image_path in image_paths:\n",
    "        image = Image.open(image_path)\n",
    "        base_name = os.path.splitext(os.path.basename(image_path))[0]\n",
    "        \n",
    "        sizes = [(4000, 3000), (2000, 1500), (1000, 750), (500, 375), (250, 188)]\n",
    "        \n",
    "        for size in sizes:\n",
    "            resized_image = image.resize(size, Image.Resampling.LANCZOS)\n",
    "            save_path = os.path.join(output_dir, f\"{base_name}_{size[0]}x{size[1]}.jpg\")\n",
    "            # Save with a specified quality setting to maintain original size\n",
    "            resized_image.save(save_path, quality=95)\n",
    "\n",
    "input_dir = \"C:/Users/tuant/Downloads/AI Thesis/FINAL_APP_AND_ANALYSIS/examples/final_images\"\n",
    "output_dir = \"C:/Users/tuant/Downloads/AI Thesis/FINAL_APP_AND_ANALYSIS/examples/final_image\"\n",
    "\n",
    "resize_and_save_images(input_dir, output_dir)\n"
   ]
  },
  {
   "cell_type": "code",
   "execution_count": null,
   "id": "afa6b8a4-89e1-4b2c-b123-b831dc7c6a0d",
   "metadata": {},
   "outputs": [],
   "source": []
  }
 ],
 "metadata": {
  "kernelspec": {
   "display_name": "torchgpu",
   "language": "python",
   "name": "torchgpu"
  },
  "language_info": {
   "codemirror_mode": {
    "name": "ipython",
    "version": 3
   },
   "file_extension": ".py",
   "mimetype": "text/x-python",
   "name": "python",
   "nbconvert_exporter": "python",
   "pygments_lexer": "ipython3",
   "version": "3.11.8"
  }
 },
 "nbformat": 4,
 "nbformat_minor": 5
}
