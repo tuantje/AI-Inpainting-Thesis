{
 "cells": [
  {
   "cell_type": "code",
   "execution_count": null,
   "id": "5b070b30-f265-4aa4-a1b0-dc54d140eca7",
   "metadata": {},
   "outputs": [],
   "source": [
    "import pandas as pd\n",
    "\n",
    "\n",
    "results_all_models = pd.read_csv('results_all_models.csv')\n",
    "\n",
    "\n",
    "results_all_models_updated\n"
   ]
  }
 ],
 "metadata": {
  "kernelspec": {
   "display_name": "torchgpu",
   "language": "python",
   "name": "torchgpu"
  },
  "language_info": {
   "codemirror_mode": {
    "name": "ipython",
    "version": 3
   },
   "file_extension": ".py",
   "mimetype": "text/x-python",
   "name": "python",
   "nbconvert_exporter": "python",
   "pygments_lexer": "ipython3",
   "version": "3.11.8"
  }
 },
 "nbformat": 4,
 "nbformat_minor": 5
}
