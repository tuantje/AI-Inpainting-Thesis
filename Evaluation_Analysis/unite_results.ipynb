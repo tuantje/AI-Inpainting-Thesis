{
 "cells": [
  {
   "cell_type": "code",
   "execution_count": 11,
   "id": "b51c3c0d-d275-4abe-bbb7-64cd2a541a71",
   "metadata": {},
   "outputs": [
    {
     "data": {
      "text/plain": [
       "(                Model                 Image                              Mask  \\\n",
       " 0  pruned_model_1.pth  image10_1000x750.jpg  mask_1000x750_100x100_center.jpg   \n",
       " 1  pruned_model_1.pth  image10_1000x750.jpg  mask_1000x750_100x100_random.jpg   \n",
       " 2  pruned_model_1.pth  image10_1000x750.jpg    mask_1000x750_12x12_center.jpg   \n",
       " 3  pruned_model_1.pth  image10_1000x750.jpg    mask_1000x750_12x12_random.jpg   \n",
       " 4  pruned_model_1.pth  image10_1000x750.jpg  mask_1000x750_150x150_center.jpg   \n",
       " \n",
       "    Time (s)  Memory (MB)     PSNR       MAE       MSE   LPIPS  \n",
       " 0    0.5846      1749.61  20.2135  115.4832  619.0539  0.1015  \n",
       " 1    0.1760      1749.61  20.1893  124.8194  622.5097  0.2779  \n",
       " 2    0.1781      1749.61  23.1836  114.2053  312.4083     NaN  \n",
       " 3    0.1780      1749.61  26.3896  109.3037  149.3215     NaN  \n",
       " 4    0.1795      1749.61  18.7105  121.3018  875.0407  0.2444  ,\n",
       "                 Model                 Image                              Mask  \\\n",
       " 0  pruned_model_7.pth  image10_1000x750.jpg  mask_1000x750_100x100_center.jpg   \n",
       " 1  pruned_model_7.pth  image10_1000x750.jpg  mask_1000x750_100x100_random.jpg   \n",
       " 2  pruned_model_7.pth  image10_1000x750.jpg    mask_1000x750_12x12_center.jpg   \n",
       " 3  pruned_model_7.pth  image10_1000x750.jpg    mask_1000x750_12x12_random.jpg   \n",
       " 4  pruned_model_7.pth  image10_1000x750.jpg  mask_1000x750_150x150_center.jpg   \n",
       " \n",
       "    Time (s)  Memory (MB)     PSNR       MAE       MSE   LPIPS  \n",
       " 0    0.1885      1777.95  20.0317  113.9477  645.5139  0.0988  \n",
       " 1    0.1783      1777.95  20.2074  126.5087  619.9336  0.2776  \n",
       " 2    0.1769      1777.95  23.2210  109.4856  309.7278     NaN  \n",
       " 3    0.1810      1777.95  26.3542  110.6430  150.5422     NaN  \n",
       " 4    0.1775      1777.95  18.7940  121.5615  858.3737  0.2410  ,\n",
       "                 Model                 Image                              Mask  \\\n",
       " 0  pruned_model_6.pth  image10_1000x750.jpg  mask_1000x750_100x100_center.jpg   \n",
       " 1  pruned_model_6.pth  image10_1000x750.jpg  mask_1000x750_100x100_random.jpg   \n",
       " 2  pruned_model_6.pth  image10_1000x750.jpg    mask_1000x750_12x12_center.jpg   \n",
       " 3  pruned_model_6.pth  image10_1000x750.jpg    mask_1000x750_12x12_random.jpg   \n",
       " 4  pruned_model_6.pth  image10_1000x750.jpg  mask_1000x750_150x150_center.jpg   \n",
       " \n",
       "    Time (s)  Memory (MB)     PSNR       MAE       MSE   LPIPS  \n",
       " 0    0.8491      1749.61  20.0322  113.2164  645.4453  0.1021  \n",
       " 1    0.1760      1749.61  20.2802  127.1049  609.6176  0.2763  \n",
       " 2    0.1760      1749.61  23.1872  107.3576  312.1511     NaN  \n",
       " 3    0.1760      1749.61  26.3487  108.3348  150.7348     NaN  \n",
       " 4    0.1815      1749.61  18.7283  121.4095  871.4701  0.2457  )"
      ]
     },
     "execution_count": 11,
     "metadata": {},
     "output_type": "execute_result"
    }
   ],
   "source": [
    "import pandas as pd\n",
    "\n",
    "# Load the provided CSV files\n",
    "results_all_models = pd.read_csv('results_all_models.csv')\n",
    "results_single_model = pd.read_csv('results_single_model.csv')\n",
    "results_single_model_6 = pd.read_csv('results_single_model_6.csv')\n",
    "\n",
    "# Display the first few rows of each dataframe to understand their structure\n",
    "results_all_models.head(), results_single_model.head(), results_single_model_6.head()\n"
   ]
  },
  {
   "cell_type": "code",
   "execution_count": 12,
   "id": "a063d49e-3c54-471c-8e70-b0acf0feb574",
   "metadata": {},
   "outputs": [],
   "source": [
    "# Replace pruned_model_6 (7%) in results_all_models with results from results_single_model_6\n",
    "results_all_models_updated = results_all_models[results_all_models['Model'] != 'pruned_model_6.pth']\n",
    "\n",
    "# Add the results from results_single_model_6\n",
    "results_all_models_updated = pd.concat([results_all_models_updated, results_single_model_6])\n",
    "\n",
    "# Add the results from results_single_model (7%)\n",
    "results_all_models_updated = pd.concat([results_all_models_updated, results_single_model])\n",
    "\n"
   ]
  },
  {
   "cell_type": "code",
   "execution_count": 13,
   "id": "27ffbd7c-1c26-49f8-8674-3cfd13238288",
   "metadata": {},
   "outputs": [],
   "source": [
    "# Split the 'Image' column into 'Image' and 'Size'\n",
    "results_all_models_updated[['Image_Name', 'Image_Size']] = results_all_models_updated['Image'].str.split('_', n=1, expand=True)\n",
    "\n",
    "# Remove the '.jpg' extension from the 'Image_Size' column\n",
    "results_all_models_updated['Image_Size'] = results_all_models_updated['Image_Size'].str.replace('.jpg', '')\n"
   ]
  },
  {
   "cell_type": "code",
   "execution_count": 14,
   "id": "0a418021-8c2e-4cc2-9dc5-71490dfd169c",
   "metadata": {},
   "outputs": [],
   "source": [
    "# Simplify the 'Mask' column and extract 'Mask_Size' and 'Mask_Type'\n",
    "mask_split = results_all_models_updated['Mask'].str.extract(r'(\\d+x\\d+)_(\\d+x\\d+)_(center|random)')\n",
    "results_all_models_updated['Mask_Size'] = mask_split[1]\n",
    "results_all_models_updated['Mask_Type'] = mask_split[2]\n",
    "\n"
   ]
  },
  {
   "cell_type": "code",
   "execution_count": 15,
   "id": "66d2f324-c05c-464f-8541-5ae7d6676c31",
   "metadata": {},
   "outputs": [],
   "source": [
    "# Drop the old 'Image' and 'Mask' columns\n",
    "results_all_models_updated = results_all_models_updated.drop(columns=['Image', 'Mask'])\n",
    "\n"
   ]
  },
  {
   "cell_type": "code",
   "execution_count": 16,
   "id": "c2baced2-bce6-4c01-9dd3-ad6a45bf251f",
   "metadata": {},
   "outputs": [],
   "source": [
    "# Split the dataframe into two: one for 'center' and one for 'random'\n",
    "center_df = results_all_models_updated[results_all_models_updated['Mask_Type'] == 'center']\n",
    "random_df = results_all_models_updated[results_all_models_updated['Mask_Type'] == 'random']\n",
    "\n"
   ]
  },
  {
   "cell_type": "code",
   "execution_count": 17,
   "id": "8d3b2998-94f8-471c-8f7a-f24f1faf0088",
   "metadata": {},
   "outputs": [
    {
     "data": {
      "text/html": [
       "<div>\n",
       "<style scoped>\n",
       "    .dataframe tbody tr th:only-of-type {\n",
       "        vertical-align: middle;\n",
       "    }\n",
       "\n",
       "    .dataframe tbody tr th {\n",
       "        vertical-align: top;\n",
       "    }\n",
       "\n",
       "    .dataframe thead th {\n",
       "        text-align: right;\n",
       "    }\n",
       "</style>\n",
       "<table border=\"1\" class=\"dataframe\">\n",
       "  <thead>\n",
       "    <tr style=\"text-align: right;\">\n",
       "      <th></th>\n",
       "      <th>Model</th>\n",
       "      <th>Time (s)</th>\n",
       "      <th>Memory (MB)</th>\n",
       "      <th>PSNR</th>\n",
       "      <th>MAE</th>\n",
       "      <th>MSE</th>\n",
       "      <th>LPIPS</th>\n",
       "      <th>Image_Name</th>\n",
       "      <th>Image_Size</th>\n",
       "      <th>Mask_Size</th>\n",
       "      <th>Mask_Type</th>\n",
       "    </tr>\n",
       "  </thead>\n",
       "  <tbody>\n",
       "    <tr>\n",
       "      <th>0</th>\n",
       "      <td>pruned_model_1.pth</td>\n",
       "      <td>0.5846</td>\n",
       "      <td>1749.61</td>\n",
       "      <td>20.2135</td>\n",
       "      <td>115.4832</td>\n",
       "      <td>619.0539</td>\n",
       "      <td>0.1015</td>\n",
       "      <td>image10</td>\n",
       "      <td>1000x750</td>\n",
       "      <td>100x100</td>\n",
       "      <td>center</td>\n",
       "    </tr>\n",
       "    <tr>\n",
       "      <th>2</th>\n",
       "      <td>pruned_model_1.pth</td>\n",
       "      <td>0.1781</td>\n",
       "      <td>1749.61</td>\n",
       "      <td>23.1836</td>\n",
       "      <td>114.2053</td>\n",
       "      <td>312.4083</td>\n",
       "      <td>NaN</td>\n",
       "      <td>image10</td>\n",
       "      <td>1000x750</td>\n",
       "      <td>12x12</td>\n",
       "      <td>center</td>\n",
       "    </tr>\n",
       "    <tr>\n",
       "      <th>4</th>\n",
       "      <td>pruned_model_1.pth</td>\n",
       "      <td>0.1795</td>\n",
       "      <td>1749.61</td>\n",
       "      <td>18.7105</td>\n",
       "      <td>121.3018</td>\n",
       "      <td>875.0407</td>\n",
       "      <td>0.2444</td>\n",
       "      <td>image10</td>\n",
       "      <td>1000x750</td>\n",
       "      <td>150x150</td>\n",
       "      <td>center</td>\n",
       "    </tr>\n",
       "    <tr>\n",
       "      <th>6</th>\n",
       "      <td>pruned_model_1.pth</td>\n",
       "      <td>0.1795</td>\n",
       "      <td>1749.61</td>\n",
       "      <td>19.1892</td>\n",
       "      <td>138.5490</td>\n",
       "      <td>783.7247</td>\n",
       "      <td>0.4493</td>\n",
       "      <td>image10</td>\n",
       "      <td>1000x750</td>\n",
       "      <td>200x200</td>\n",
       "      <td>center</td>\n",
       "    </tr>\n",
       "    <tr>\n",
       "      <th>8</th>\n",
       "      <td>pruned_model_1.pth</td>\n",
       "      <td>0.1775</td>\n",
       "      <td>1749.61</td>\n",
       "      <td>22.4615</td>\n",
       "      <td>84.4915</td>\n",
       "      <td>368.9174</td>\n",
       "      <td>NaN</td>\n",
       "      <td>image10</td>\n",
       "      <td>1000x750</td>\n",
       "      <td>25x25</td>\n",
       "      <td>center</td>\n",
       "    </tr>\n",
       "  </tbody>\n",
       "</table>\n",
       "</div>"
      ],
      "text/plain": [
       "                Model  Time (s)  Memory (MB)     PSNR       MAE       MSE  \\\n",
       "0  pruned_model_1.pth    0.5846      1749.61  20.2135  115.4832  619.0539   \n",
       "2  pruned_model_1.pth    0.1781      1749.61  23.1836  114.2053  312.4083   \n",
       "4  pruned_model_1.pth    0.1795      1749.61  18.7105  121.3018  875.0407   \n",
       "6  pruned_model_1.pth    0.1795      1749.61  19.1892  138.5490  783.7247   \n",
       "8  pruned_model_1.pth    0.1775      1749.61  22.4615   84.4915  368.9174   \n",
       "\n",
       "    LPIPS Image_Name Image_Size Mask_Size Mask_Type  \n",
       "0  0.1015    image10   1000x750   100x100    center  \n",
       "2     NaN    image10   1000x750     12x12    center  \n",
       "4  0.2444    image10   1000x750   150x150    center  \n",
       "6  0.4493    image10   1000x750   200x200    center  \n",
       "8     NaN    image10   1000x750     25x25    center  "
      ]
     },
     "execution_count": 17,
     "metadata": {},
     "output_type": "execute_result"
    }
   ],
   "source": [
    "center_df.head()"
   ]
  },
  {
   "cell_type": "code",
   "execution_count": 18,
   "id": "8d84e370-39c3-4f38-8605-321e4df918d2",
   "metadata": {},
   "outputs": [],
   "source": [
    "# Save these dataframes to new CSV files\n",
    "center_df.to_csv('center_results_all_models.csv', index=False)\n",
    "random_df.to_csv('random_results_all_models.csv', index=False)"
   ]
  },
  {
   "cell_type": "code",
   "execution_count": null,
   "id": "1bb98379-9740-4531-ba6b-8c5d2e2f8406",
   "metadata": {},
   "outputs": [],
   "source": []
  }
 ],
 "metadata": {
  "kernelspec": {
   "display_name": "torchgpu",
   "language": "python",
   "name": "torchgpu"
  },
  "language_info": {
   "codemirror_mode": {
    "name": "ipython",
    "version": 3
   },
   "file_extension": ".py",
   "mimetype": "text/x-python",
   "name": "python",
   "nbconvert_exporter": "python",
   "pygments_lexer": "ipython3",
   "version": "3.11.8"
  }
 },
 "nbformat": 4,
 "nbformat_minor": 5
}
